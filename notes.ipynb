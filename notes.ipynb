{
 "cells": [
  {
   "attachments": {},
   "cell_type": "markdown",
   "metadata": {},
   "source": [
    "# Regresión Logistica con Python y scikit-learn\n",
    "\n",
    "En este artículo, exploraremos cómo utilizar **la regresión logística con Python para construir algoritmo de machine learning para clasificación de datos de un evento binario o multiclase**. Antes de profundizar en la regresión logística, es importante tener una comprensión sólida de los requisitos previos necesarios para abordar esta técnica de modelado.\n",
    "\n",
    "Estos son los requisitos previos que se necesitan para abordar la regresión logistica con Python:\n",
    "\n",
    "- [Conocimiento de matemáticas para la inteligencia artificial.](https://deepnote.com/@mazzaroli/Introduccion-a-Funciones-Matematicas-para-Data-Science-e-Inteligencia-Artificial-f9a47b52-0308-4e95-a3d3-c3de3ef7b14f)\n",
    "\n",
    "- [Conocimiento de análisis exploratorio de datos.](https://deepnote.com/@mazzaroli/Analisis-exploratorio-de-datos-caba7762-e435-481e-9060-523263a820b1)\n",
    " \n",
    "- Conocimiento de visualización de datos con [Matplotlib](https://matplotlib.org/stable/users/index.html) y [Seaborn](https://jakevdp.github.io/PythonDataScienceHandbook/04.14-visualization-with-seaborn.html).\n",
    "\n",
    "- [Conocimiento de los fundamentos de la inteligencia artificial.](https://deepnote.com/@mazzaroli/Introduccion-teorica-al-machine-learning-c4aded88-a409-4731-b650-6b3b43963d21)\n",
    "\n",
    "- [Conocimiento de los fundamentos de regresión lineal](https://deepnote.com/@mazzaroli/Regresion-Lineal-con-Python-y-scikit-learn-86f7bb72-770c-4e28-9e84-0355aed93892)"
   ]
  },
  {
   "attachments": {},
   "cell_type": "markdown",
   "metadata": {},
   "source": [
    "\n",
    "## Que es la regresion logistica?\n",
    "\n",
    "En el ámbito del Machine Learning, existen tres tipos de algoritmos: el aprendizaje supervisado, el aprendizaje no supervisado y el aprendizaje por refuerzo. **La regresión logística es un algoritmo de aprendizaje supervisado**\n",
    "\n",
    "Dentro del aprendizaje supervisados están los **algoritmos de clasificación y regresión**\n",
    "\n",
    "**La regresión logística se utiliza** principalmente **para problemas de clasificación**, **donde se tiene que predecir la probabilidad de que un evento pertenezca a una de dos categorías posibles**, como (sí/no), (verdadero/falso), (spam/no spam), entre otros.\n",
    "\n",
    "**La idea** básica detrás **de la regresión logística es crear una función** matemática **que pueda clasificar los datos acorde a la relación entre sus características** o variables predictoras y la variable objetivo o la categoría a predecir. **Esta función es la función sigmoide** y su fórmula y grafico son los siguiente.\n",
    "\n",
    "$\\displaystyle s(x) = \\frac{1}{(1 + e^{-x})}$\n",
    "\n",
    "<img src='https://upload.wikimedia.org/wikipedia/commons/thumb/6/66/Funci%C3%B3n_sigmoide_01.svg/1200px-Funci%C3%B3n_sigmoide_01.svg.png' width=400>\n",
    "\n",
    "**La función sigmoide se utiliza para calcular la probabilidad de que un evento pertenezca a una de dos categorías posibles,** tomando cualquier valor de entrada y comprimiendolo a un rango entre 0 y 1, lo que la hace ideal para estimar la probabilidad.\n",
    "\n",
    "- **Si la probabilidad es mayor que 0.5**, se clasifica como **perteneciente a la categoría 1**,\n",
    "\n",
    "- **Si es menor que 0.5**, se clasifica como **perteneciente a la categoría 0.** \n",
    "\n",
    "En otras palabras, si la probabilidad calculada es mayor al 50%, se predice que el evento pertenece a la categoría 1, y si es menor al 50%, se predice que pertenece a la categoría 0."
   ]
  },
  {
   "attachments": {},
   "cell_type": "markdown",
   "metadata": {},
   "source": [
    "\n",
    "### Ejemplo\n",
    "\n",
    "Supongamos que **un profesor quiere predecir la probabilidad de que un estudiante apruebe un examen en función de las horas de estudio.** Para ello, **recopila datos de 50 estudiantes** que han tomado el examen en el pasado y **registra las horas que cada uno estudió y si aprobó o no el examen**. A continuación, **el profesor construye un modelo de regresión logística para predecir la probabilidad de que un estudiante apruebe el examen en función de las horas de estudio.**\n",
    "\n",
    "El profesor asigna la variable **\"1\" si un estudiante aprueba** el examen y **\"0\" si no lo aprueba**. Luego, utiliza la **probabilidad de aprobar como variable objetivo** (eje $Y$) y las **horas de estudio como variables predictoras** (eje $X$). Luego, **ajusta la función sigmoide al conjunto de datos** para estimar la probabilidad de que un estudiante apruebe el examen en función de las horas de estudio.\n",
    "\n",
    "Finalmente, el profesor puede utilizar este modelo para predecir la probabilidad de que un estudiante apruebe el examen en función de las horas de estudio que dedica. \n",
    "\n",
    "Por ejemplo, **si un estudiante estudia durante 10 horas**, la función sigmoide puede predecir **una probabilidad del 80% de que el estudiante apruebe el examen**. En cambio, **si un estudiante estudia solo 5 horas**, la función sigmoide puede predecir **una probabilidad del 40% de que el estudiante apruebe el examen**.\n",
    "\n",
    "\n",
    "<img src='https://datascientest.com/es/wp-content/uploads/sites/7/2020/10/unnamed-4.png' width=400>\n"
   ]
  },
  {
   "attachments": {},
   "cell_type": "markdown",
   "metadata": {},
   "source": [
    "## Tu primera clasificación con regresión logística\n",
    "\n",
    "Aprenderemos a construir nuestra primera regresión logística con Python y la librería Scikit-learn en solo unos pocos pasos."
   ]
  },
  {
   "attachments": {},
   "cell_type": "markdown",
   "metadata": {},
   "source": [
    "### Importar librerías"
   ]
  },
  {
   "cell_type": "code",
   "execution_count": 1,
   "metadata": {},
   "outputs": [],
   "source": [
    "import numpy as np  # Librería para operaciones matemáticas con arrays\n",
    "import pandas as pd  # Librería para manipulación de datos en formato tabla\n",
    "import matplotlib.pyplot as plt  # Librería para visualización de gráficos\n",
    "import seaborn as sns  # Librería para visualización de datos estadísticos\n",
    "from sklearn.datasets import load_digits  # Conjunto de datos de dígitos escritos a mano\n",
    "from sklearn.linear_model import LogisticRegression  # Modelo de regresión logística"
   ]
  },
  {
   "attachments": {},
   "cell_type": "markdown",
   "metadata": {},
   "source": [
    "### Carga de datos\n",
    "\n",
    "**[load_digits](https://scikit-learn.org/stable/auto_examples/datasets/plot_digits_last_image.html)** es un conjunto de datos de dígitos escritos a mano que **consta de 1.797 imágenes** de **resolución 8x8 píxeles**, **cada píxel está representado como un valor en escala de grises entre 0 y 16**. \n",
    "\n",
    "\n",
    "**Las etiquetas corresponden a los números enteros del 0 al 9**, por lo que es útil para tareas de clasificación multiclase y es comúnmente utilizado como un ejemplo introductorio en la clasificación de imágenes en Machine Learning.\n",
    "\n",
    "<img src='https://user-images.githubusercontent.com/8764683/59962629-0d3ce780-9523-11e9-8b21-5ffc9c588fd7.png' width=700>"
   ]
  },
  {
   "cell_type": "code",
   "execution_count": 68,
   "metadata": {},
   "outputs": [],
   "source": [
    "# Cargamos el conjunto de datos digits\n",
    "digits = load_digits()"
   ]
  },
  {
   "cell_type": "code",
   "execution_count": 69,
   "metadata": {},
   "outputs": [
    {
     "data": {
      "text/plain": [
       "array([ 0.,  0.,  5., 13.,  9.,  1.,  0.,  0.,  0.,  0., 13., 15., 10.,\n",
       "       15.,  5.,  0.,  0.,  3., 15.,  2.,  0., 11.,  8.,  0.,  0.,  4.,\n",
       "       12.,  0.,  0.,  8.,  8.,  0.,  0.,  5.,  8.,  0.,  0.,  9.,  8.,\n",
       "        0.,  0.,  4., 11.,  0.,  1., 12.,  7.,  0.,  0.,  2., 14.,  5.,\n",
       "       10., 12.,  0.,  0.,  0.,  0.,  6., 13., 10.,  0.,  0.,  0.])"
      ]
     },
     "execution_count": 69,
     "metadata": {},
     "output_type": "execute_result"
    }
   ],
   "source": [
    "# Accedemos a la primera fila de datos que representa la primera imagen en formato vectorial\n",
    "digits.data[0]"
   ]
  },
  {
   "cell_type": "code",
   "execution_count": 70,
   "metadata": {},
   "outputs": [
    {
     "data": {
      "text/plain": [
       "array([[ 0.,  0.,  9., 14.,  8.,  1.,  0.,  0.],\n",
       "       [ 0.,  0., 12., 14., 14., 12.,  0.,  0.],\n",
       "       [ 0.,  0.,  9., 10.,  0., 15.,  4.,  0.],\n",
       "       [ 0.,  0.,  3., 16., 12., 14.,  2.,  0.],\n",
       "       [ 0.,  0.,  4., 16., 16.,  2.,  0.,  0.],\n",
       "       [ 0.,  3., 16.,  8., 10., 13.,  2.,  0.],\n",
       "       [ 0.,  1., 15.,  1.,  3., 16.,  8.,  0.],\n",
       "       [ 0.,  0., 11., 16., 15., 11.,  1.,  0.]])"
      ]
     },
     "execution_count": 70,
     "metadata": {},
     "output_type": "execute_result"
    }
   ],
   "source": [
    "# Transforma el vector de la primera imagen en una matriz de 8x8 píxeles\n",
    "image = np.reshape(digits.data[8],(8,8))\n",
    "image"
   ]
  },
  {
   "cell_type": "code",
   "execution_count": 71,
   "metadata": {},
   "outputs": [
    {
     "data": {
      "text/plain": [
       "<matplotlib.image.AxesImage at 0x7f0b277fb4f0>"
      ]
     },
     "execution_count": 71,
     "metadata": {},
     "output_type": "execute_result"
    },
    {
     "data": {
      "image/png": "[encoded data removed]",
      "text/plain": [
       "<Figure size 432x288 with 1 Axes>"
      ]
     },
     "metadata": {
      "needs_background": "light"
     },
     "output_type": "display_data"
    }
   ],
   "source": [
    "# Vemos la representación del a primera imagen\n",
    "plt.imshow(image,cmap='gray')"
   ]
  },
  {
   "attachments": {},
   "cell_type": "markdown",
   "metadata": {},
   "source": [
    "## Split de datos en train y test\n",
    "\n",
    "Al hacer un split de datos en train y test, separamos nuestro conjunto de datos en dos partes: \n",
    "\n",
    "- **train:** para entrenar el modelo.\n",
    "- **test:**  para evaluar el desempeño del modelo. \n",
    "\n",
    "Esto nos permite evaluar la capacidad de nuestro modelo para generalizar a datos nuevos y no vistos durante el entrenamiento."
   ]
  },
  {
   "cell_type": "code",
   "execution_count": 72,
   "metadata": {},
   "outputs": [],
   "source": [
    "from sklearn.model_selection import train_test_split\n",
    "\n",
    "X_train, X_test, y_train, y_test = train_test_split(digits.data, digits.target, test_size=0.2, random_state=0)"
   ]
  },
  {
   "cell_type": "code",
   "execution_count": 73,
   "metadata": {},
   "outputs": [
    {
     "name": "stdout",
     "output_type": "stream",
     "text": [
      "X_train: (1437, 64)\n",
      "y_train: (1437,)\n",
      "\n",
      "X_test: (360, 64)\n",
      "y_test: (360,)\n"
     ]
    }
   ],
   "source": [
    "print(f\"\"\"X_train: {X_train.shape}\n",
    "y_train: {y_train.shape}\n",
    "\n",
    "X_test: {X_test.shape}\n",
    "y_test: {y_test.shape}\"\"\")"
   ]
  },
  {
   "attachments": {},
   "cell_type": "markdown",
   "metadata": {},
   "source": [
    "### Entrenamiento de modelo"
   ]
  },
  {
   "cell_type": "code",
   "execution_count": 83,
   "metadata": {},
   "outputs": [
    {
     "name": "stderr",
     "output_type": "stream",
     "text": [
      "/home/mazzaroli/anaconda3/lib/python3.9/site-packages/sklearn/linear_model/_logistic.py:444: ConvergenceWarning: lbfgs failed to converge (status=1):\n",
      "STOP: TOTAL NO. of ITERATIONS REACHED LIMIT.\n",
      "\n",
      "Increase the number of iterations (max_iter) or scale the data as shown in:\n",
      "    https://scikit-learn.org/stable/modules/preprocessing.html\n",
      "Please also refer to the documentation for alternative solver options:\n",
      "    https://scikit-learn.org/stable/modules/linear_model.html#logistic-regression\n",
      "  n_iter_i = _check_optimize_result(\n"
     ]
    },
    {
     "data": {
      "text/html": [
       "<style>#sk-container-id-3 {color: black;background-color: white;}#sk-container-id-3 pre{padding: 0;}#sk-container-id-3 div.sk-toggleable {background-color: white;}#sk-container-id-3 label.sk-toggleable__label {cursor: pointer;display: block;width: 100%;margin-bottom: 0;padding: 0.3em;box-sizing: border-box;text-align: center;}#sk-container-id-3 label.sk-toggleable__label-arrow:before {content: \"▸\";float: left;margin-right: 0.25em;color: #696969;}#sk-container-id-3 label.sk-toggleable__label-arrow:hover:before {color: black;}#sk-container-id-3 div.sk-estimator:hover label.sk-toggleable__label-arrow:before {color: black;}#sk-container-id-3 div.sk-toggleable__content {max-height: 0;max-width: 0;overflow: hidden;text-align: left;background-color: #f0f8ff;}#sk-container-id-3 div.sk-toggleable__content pre {margin: 0.2em;color: black;border-radius: 0.25em;background-color: #f0f8ff;}#sk-container-id-3 input.sk-toggleable__control:checked~div.sk-toggleable__content {max-height: 200px;max-width: 100%;overflow: auto;}#sk-container-id-3 input.sk-toggleable__control:checked~label.sk-toggleable__label-arrow:before {content: \"▾\";}#sk-container-id-3 div.sk-estimator input.sk-toggleable__control:checked~label.sk-toggleable__label {background-color: #d4ebff;}#sk-container-id-3 div.sk-label input.sk-toggleable__control:checked~label.sk-toggleable__label {background-color: #d4ebff;}#sk-container-id-3 input.sk-hidden--visually {border: 0;clip: rect(1px 1px 1px 1px);clip: rect(1px, 1px, 1px, 1px);height: 1px;margin: -1px;overflow: hidden;padding: 0;position: absolute;width: 1px;}#sk-container-id-3 div.sk-estimator {font-family: monospace;background-color: #f0f8ff;border: 1px dotted black;border-radius: 0.25em;box-sizing: border-box;margin-bottom: 0.5em;}#sk-container-id-3 div.sk-estimator:hover {background-color: #d4ebff;}#sk-container-id-3 div.sk-parallel-item::after {content: \"\";width: 100%;border-bottom: 1px solid gray;flex-grow: 1;}#sk-container-id-3 div.sk-label:hover label.sk-toggleable__label {background-color: #d4ebff;}#sk-container-id-3 div.sk-serial::before {content: \"\";position: absolute;border-left: 1px solid gray;box-sizing: border-box;top: 0;bottom: 0;left: 50%;z-index: 0;}#sk-container-id-3 div.sk-serial {display: flex;flex-direction: column;align-items: center;background-color: white;padding-right: 0.2em;padding-left: 0.2em;position: relative;}#sk-container-id-3 div.sk-item {position: relative;z-index: 1;}#sk-container-id-3 div.sk-parallel {display: flex;align-items: stretch;justify-content: center;background-color: white;position: relative;}#sk-container-id-3 div.sk-item::before, #sk-container-id-3 div.sk-parallel-item::before {content: \"\";position: absolute;border-left: 1px solid gray;box-sizing: border-box;top: 0;bottom: 0;left: 50%;z-index: -1;}#sk-container-id-3 div.sk-parallel-item {display: flex;flex-direction: column;z-index: 1;position: relative;background-color: white;}#sk-container-id-3 div.sk-parallel-item:first-child::after {align-self: flex-end;width: 50%;}#sk-container-id-3 div.sk-parallel-item:last-child::after {align-self: flex-start;width: 50%;}#sk-container-id-3 div.sk-parallel-item:only-child::after {width: 0;}#sk-container-id-3 div.sk-dashed-wrapped {border: 1px dashed gray;margin: 0 0.4em 0.5em 0.4em;box-sizing: border-box;padding-bottom: 0.4em;background-color: white;}#sk-container-id-3 div.sk-label label {font-family: monospace;font-weight: bold;display: inline-block;line-height: 1.2em;}#sk-container-id-3 div.sk-label-container {text-align: center;}#sk-container-id-3 div.sk-container {/* jupyter's `normalize.less` sets `[hidden] { display: none; }` but bootstrap.min.css set `[hidden] { display: none !important; }` so we also need the `!important` here to be able to override the default hidden behavior on the sphinx rendered scikit-learn.org. See: https://github.com/scikit-learn/scikit-learn/issues/21755 */display: inline-block !important;position: relative;}#sk-container-id-3 div.sk-text-repr-fallback {display: none;}</style><div id=\"sk-container-id-3\" class=\"sk-top-container\"><div class=\"sk-text-repr-fallback\"><pre>LogisticRegression()</pre><b>In a Jupyter environment, please rerun this cell to show the HTML representation or trust the notebook. <br />On GitHub, the HTML representation is unable to render, please try loading this page with nbviewer.org.</b></div><div class=\"sk-container\" hidden><div class=\"sk-item\"><div class=\"sk-estimator sk-toggleable\"><input class=\"sk-toggleable__control sk-hidden--visually\" id=\"sk-estimator-id-3\" type=\"checkbox\" checked><label for=\"sk-estimator-id-3\" class=\"sk-toggleable__label sk-toggleable__label-arrow\">LogisticRegression</label><div class=\"sk-toggleable__content\"><pre>LogisticRegression()</pre></div></div></div></div></div>"
      ],
      "text/plain": [
       "LogisticRegression()"
      ]
     },
     "execution_count": 83,
     "metadata": {},
     "output_type": "execute_result"
    }
   ],
   "source": [
    "# Instanciamos y ajustamos el modelo de regresión logística\n",
    "logistic_reg = LogisticRegression()\n",
    "logistic_reg.fit(X_train, y_train)"
   ]
  },
  {
   "cell_type": "code",
   "execution_count": 75,
   "metadata": {},
   "outputs": [],
   "source": [
    "pred = logistic_reg.predict(X_test)"
   ]
  },
  {
   "attachments": {},
   "cell_type": "markdown",
   "metadata": {},
   "source": [
    "## Evaluación del modelo"
   ]
  },
  {
   "cell_type": "code",
   "execution_count": 82,
   "metadata": {},
   "outputs": [
    {
     "name": "stdout",
     "output_type": "stream",
     "text": [
      "96.66666666666667\n"
     ]
    },
    {
     "data": {
      "image/png": "[encoded data removed]",
      "text/plain": [
       "<Figure size 432x288 with 2 Axes>"
      ]
     },
     "metadata": {
      "needs_background": "light"
     },
     "output_type": "display_data"
    }
   ],
   "source": [
    "# ignorar las advertencias de FutureWarning.\n",
    "import warnings; warnings.simplefilter(action='ignore', category=FutureWarning)\n",
    "\n",
    "from sklearn.metrics import plot_confusion_matrix\n",
    "from sklearn.metrics import accuracy_score\n",
    "\n",
    "plot_confusion_matrix(logistic_reg,X_test, y_test);\n",
    "print(accuracy_score(y_test,pred)*100)"
   ]
  },
  {
   "attachments": {},
   "cell_type": "markdown",
   "metadata": {},
   "source": [
    "En nuestra evaluación del modelo logístico, obtuvimos una alta precisión y la mayoría de las predicciones fueron correctas. \n",
    "\n",
    "Nuestro modelo obtuvo un accuracy_score del 96.6%, lo que indica que es capaz de predecir correctamente la categoría del número en la mayoría de las veces."
   ]
  },
  {
   "attachments": {},
   "cell_type": "markdown",
   "metadata": {},
   "source": [
    "### Carguemos nuestros propios números\n",
    "\n",
    "Implementaremos un código que permitirá cargar imágenes hechas a mano y utilizar el modelo de regresión logística previamente entrenado para predecir qué dígito corresponde a cada imagen. Luego, se visualizará cada imagen con su respectiva predicción.\n",
    "\n",
    "Si deseas replicarlo puedes probar con tus propias imagenes y ver si predice bien o no las imagenes."
   ]
  },
  {
   "cell_type": "code",
   "execution_count": 84,
   "metadata": {},
   "outputs": [],
   "source": [
    "from PIL import Image # Importamos la librería PIL para trabajar con imágenes\n",
    "import numpy as np # Importamos numpy para manejar los datos de las imágenes\n",
    "\n",
    "def classify(img_path):\n",
    "  image_raw = Image.open(img_path).convert('L') # Abrimos la imagen y la convertimos a escala de grises\n",
    "  image_procesed = image_raw.resize((8,8)) # Redimensionamos la imagen a una de 8x8 pixeles\n",
    "  image_procesed = [np.array(image_procesed).flatten()] # Aplanamos la imagen y la convertimos a un arreglo numpy\n",
    "  prediction = logistic_reg.predict(image_procesed)[0] # Predecimos con el modelo previamente entrenado\n",
    "  return image_raw, prediction"
   ]
  },
  {
   "cell_type": "code",
   "execution_count": 65,
   "metadata": {},
   "outputs": [
    {
     "data": {
      "image/png": "[encoded data removed]",
      "text/plain": [
       "<Figure size 864x432 with 10 Axes>"
      ]
     },
     "metadata": {
      "needs_background": "light"
     },
     "output_type": "display_data"
    }
   ],
   "source": [
    "import matplotlib.pyplot as plt\n",
    "import os\n",
    "\n",
    "path = './handmade_digits'\n",
    "files = os.listdir(path)\n",
    "\n",
    "fig, ax = plt.subplots(2, 5, figsize=(12,6))\n",
    "\n",
    "for i in range(2):\n",
    "    for j in range(5):\n",
    "        img,pred, = classify(f'./handmade_digits/{files[i*5+j]}')\n",
    "        ax[i, j].imshow(img, cmap='gray')\n",
    "        ax[i, j].axis('off')\n",
    "        ax[i, j].set_title(f'\\n The image has a {pred}')"
   ]
  },
  {
   "attachments": {},
   "cell_type": "markdown",
   "metadata": {},
   "source": [
    "Después de cargar nuestros propios números y probarlos con el modelo de regresión logística, se obtuvo una predicción correcta para la mayoría de las imágenes. Sin embargo, el número 8 fue confundido con un 9 y el número 6 fue confundido con un 4."
   ]
  },
  {
   "attachments": {},
   "cell_type": "markdown",
   "metadata": {},
   "source": [
    "## ¿Cuándo usar regresión logística?\n",
    "\n",
    "\n",
    "La regresión logística es un modelo estadístico utilizado para analizar la relación entre una variable dependiente categórica y una o más variables independientes. \n",
    "\n",
    "### Ventajas\n",
    "\n",
    "- **Fácil de implementar:** La regresión logística es relativamente fácil de implementar, se puede ajustar a los datos utilizando sklearn como vimos anteriormente. Además, se puede utilizar en conjunción con otros métodos de análisis, como análisis de regresión, análisis discriminante y análisis de supervivencia.\n",
    "\n",
    "- **Coeficientes interpretables:** Los coeficientes de la regresión logística son fácilmente interpretables y proporcionan información sobre la relación entre las variables independientes y la variable dependiente. Esto permite identificar qué variables tienen un efecto significativo en la variable dependiente y cómo afectan a las probabilidades de una observación de pertenecer a una clase específica.\n",
    "\n",
    "- **Inferencia de la importancia de cada característica:** Puede proporcionar información sobre la importancia relativa de cada feature en la predicción de la variable dependiente. Esto es útil en la selección de características para modelos predictivos, ya que permite a los investigadores centrarse en las variables más importantes y descartar las menos importantes.\n",
    "\n",
    "- **Clasificación en porcentajes:** Se puede utilizar para predecir la probabilidad de una observación de pertenecer a una clase específica. Estas probabilidades se pueden convertir en una clasificación binaria utilizando un umbral de probabilidad, por ejemplo decir que con un 80% de certeza la clasificacion es 1\n",
    "\n",
    "- **excelentes resultados con conjuntos de datos linealmente separables:** Si las dos clases están linealmente separadas, entonces la regresión logística puede encontrar una línea recta o un hiperplano que separe las dos clases y proporcionar una clasificación precisa.\n",
    "\n",
    "### Desventajas\n",
    "\n",
    "- **Asume linealidad entre las variables dependientes:** La regresión logística asume una relación lineal entre las variables independientes y la variable dependiente. Si la relación no es lineal, puede proporcionar estimaciones incorrectas y, por lo tanto, puede no ser el modelo adecuado para el análisis.\n",
    "\n",
    "- **Overfitting sobre datasets de alta dimensionalidad:** Puede ser susceptible al overfitting en conjuntos de datos de alta dimensionalidad, es decir, puede ajustarse demasiado a los datos y producir modelos que no generalizan bien a nuevos datos.\n",
    "\n",
    "- **Le afecta la multicolinealidad de variables:** La multicolinealidad se refiere a la alta correlación entre dos o más variables independientes. La regresión logística puede verse afectada por la multicolinealidad, lo que puede hacer que las estimaciones de los coeficientes de la regresión sean imprecisas.\n",
    "\n",
    "- **Mejores resultados con datasets grandes:** La regresión logística puede proporcionar resultados más precisos y robustos cuando se aplica a conjuntos de datos grandes en lugar de pequeños. Esto se debe a que, en general, cuantas más observaciones haya en el conjunto de datos, más precisas serán las estimaciones de los parámetros del modelo.\n"
   ]
  },
  {
   "attachments": {},
   "cell_type": "markdown",
   "metadata": {},
   "source": [
    "\n",
    "### Cuando usarla?\n",
    "\n",
    "- **Probabilidad de ocurrencia sobre un evento categórico:** Cuando se trata de analizar datos en los que se desea modelar la probabilidad de ocurrencia de un evento categórico, como si un cliente comprará o no un producto o si un paciente tiene una enfermedad o no.\n",
    "\n",
    "- **Datasets linealmente separables:** Si los datos se pueden separar en dos grupos mediante una línea recta o hiperplano, entonces la regresión logística puede proporcionar una clasificación precisa y rápida.\n",
    "\n",
    "- **Datasets grandes:** La regresión logística es adecuada para conjuntos de datos grandes y complejos debido a su rapidez y eficiencia. La regresión logística puede manejar grandes cantidades de datos y proporcionar resultados precisos y confiables.\n",
    "\n",
    "- **Datasets balanceados:** La regresión logística es adecuada para conjuntos de datos balanceados, lo que significa que hay aproximadamente el mismo número de observaciones en cada categoría de la variable dependiente. Esto se debe a que la regresión logística se basa en el principio de máxima verosimilitud, que asume que las categorías en la variable dependiente son igualmente probables."
   ]
  },
  {
   "attachments": {},
   "cell_type": "markdown",
   "metadata": {},
   "source": [
    "## Fórmula de regresión logística\n",
    "\n",
    "La fórmula de la regresión logística es una expresión matemática que **describe la relación entre las variables predictoras y la probabilidad de que ocurra un evento binario**. La fórmula se escribe como:\n",
    "\n",
    "\n",
    "$\\displaystyle p = \\frac{1}{1 + e^{\\displaystyle-(b0 + b1x1 + b2x2 + ... + bnxn)}}$\n",
    "\n",
    "donde:\n",
    "\n",
    "- **p**: es la probabilidad del evento binario (por ejemplo, la probabilidad de éxito en una prueba)\n",
    "- **e**: es la constante matemática e (2.71828...)\n",
    "- **b0**: es la constante de intercepción (también llamada término de sesgo)\n",
    "- **b1, b2, ..., bn**: son los coeficientes de las variables predictoras x1, x2, ..., xn\n",
    "\n",
    "La ecuación de regresión logística **se basa en el modelo de odds** (razón de probabilidad), que **se define como la probabilidad de que un evento ocurra dividida por la probabilidad de que no ocurra.** En el caso de un evento binario, la odds se expresa como:\n",
    "\n",
    "$\\displaystyle odds = \\frac{p}{(1 - p)}$\n",
    "\n",
    "donde **p es la probabilidad del evento**. La odds puede tomar valores desde cero (cuando la probabilidad es cero) hasta infinito (cuando la probabilidad es uno).\n",
    "\n",
    "La ecuación de regresión logística utiliza la **transformación logarítmica de la odds**, que se expresa como:\n",
    "\n",
    "$\\log(odds) = b0 + b1x1 + b2x2 + ... + bnxn$\n",
    "\n",
    "Esta ecuación es equivalente a la ecuación de la regresión logística, ya que la transformación exponencial de la ecuación de odds da como resultado la ecuación de la regresión logística.\n",
    "\n",
    "formula de la regresion logistica con los odds:\n",
    "\n",
    "$\\displaystyle p = \\frac{1}{1 + e^{-\\log(\\frac{p}{1-p})}}$\n",
    "\n",
    "\n",
    "**Para estimar los valores de los coeficientes b0, b1, ..., bn, se utiliza el método de máxima verosimilitud**. El método de máxima verosimilitud consiste en **encontrar los valores de los coeficientes que maximizan la probabilidad de observar los datos de entrenamiento**. Para ello, se define una función de verosimilitud $L(b0, b1, ..., bn)$ que mide la probabilidad de observar los datos dadas las estimaciones de los coeficientes:\n",
    "\n",
    "$ \\displaystyle \\argmax L(b0, b1, ..., bn) = \\Pi^{N}_{i=1}p^{y_i}(1-p)^{1-y_i}$\n",
    "\n",
    "donde $y_i$ es el valor del evento binario (0 o 1) para el i-ésimo ejemplo, y $p$ es la probabilidad predicha por la ecuación de regresión logística. La función de verosimilitud se maximiza utilizando un algoritmo de optimización, como el método de Newton-Raphson.\n",
    "\n",
    "Una vez que se han estimado los coeficientes, se pueden utilizar para predecir la probabilidad de ocurrencia del evento binario en nuevos datos de entrada.\n"
   ]
  },
  {
   "attachments": {},
   "cell_type": "markdown",
   "metadata": {},
   "source": [
    "# Proyecto de regresión logística binomial\n",
    "\n",
    "[Telco Customer Churn](https://www.kaggle.com/datasets/blastchar/telco-customer-churn)\n",
    "\n",
    "En este proyecto, trabajaremos con el dataset [\"Telco Customer Churn\"](https://www.kaggle.com/datasets/blastchar/telco-customer-churn) para aplicar la regresión logística binomial y **predecir el abandono de clientes en una compañía de telecomunicaciones**.\n",
    "\n",
    "Para ello, utilizaremos diferentes técnicas como la **preparación de datos**, **análisis exploratorio de los datos**, **aplicaremos el modelo de regresión logística construido** y finalmente **interpretaremos los resultados** obtenidos para comprender el churn de la empresa.\n",
    "\n",
    "## Conociendo nuestro dataset\n",
    "\n",
    "Este dataset contiene información de los clientes como su duración en la compañía, servicios contratados, facturación, entre otros. \n",
    "\n",
    "### Atributos:\n",
    "\n"
   ]
  },
  {
   "cell_type": "markdown",
   "metadata": {},
   "source": [
    "## Conocinedo nuestro dataset\n",
    "## Preparando los datos\n",
    "\n",
    "### En el siguiente Data pre-processing\n",
    "\n",
    "- eliminaremos duplicados \n",
    "- evaluaremos valores nulos \n",
    "- removeremos columnas innecesarias \n",
    "- procesaremos los datos categóricos \n",
    "- eliminaremos los outliers \n",
    "- escalaremos la data para su mejor uso en el modelo.\n",
    "\n",
    "\n",
    "\n"
   ]
  },
  {
   "cell_type": "code",
   "execution_count": 31,
   "metadata": {},
   "outputs": [
    {
     "data": {
      "text/html": [
       "<div>\n",
       "<style scoped>\n",
       "    .dataframe tbody tr th:only-of-type {\n",
       "        vertical-align: middle;\n",
       "    }\n",
       "\n",
       "    .dataframe tbody tr th {\n",
       "        vertical-align: top;\n",
       "    }\n",
       "\n",
       "    .dataframe thead th {\n",
       "        text-align: right;\n",
       "    }\n",
       "</style>\n",
       "<table border=\"1\" class=\"dataframe\">\n",
       "  <thead>\n",
       "    <tr style=\"text-align: right;\">\n",
       "      <th></th>\n",
       "      <th>customerID</th>\n",
       "      <th>gender</th>\n",
       "      <th>SeniorCitizen</th>\n",
       "      <th>Partner</th>\n",
       "      <th>Dependents</th>\n",
       "      <th>tenure</th>\n",
       "      <th>PhoneService</th>\n",
       "      <th>MultipleLines</th>\n",
       "      <th>InternetService</th>\n",
       "      <th>OnlineSecurity</th>\n",
       "      <th>...</th>\n",
       "      <th>DeviceProtection</th>\n",
       "      <th>TechSupport</th>\n",
       "      <th>StreamingTV</th>\n",
       "      <th>StreamingMovies</th>\n",
       "      <th>Contract</th>\n",
       "      <th>PaperlessBilling</th>\n",
       "      <th>PaymentMethod</th>\n",
       "      <th>MonthlyCharges</th>\n",
       "      <th>TotalCharges</th>\n",
       "      <th>Churn</th>\n",
       "    </tr>\n",
       "  </thead>\n",
       "  <tbody>\n",
       "    <tr>\n",
       "      <th>1</th>\n",
       "      <td>5575-GNVDE</td>\n",
       "      <td>Male</td>\n",
       "      <td>0</td>\n",
       "      <td>No</td>\n",
       "      <td>No</td>\n",
       "      <td>34</td>\n",
       "      <td>Yes</td>\n",
       "      <td>No</td>\n",
       "      <td>DSL</td>\n",
       "      <td>Yes</td>\n",
       "      <td>...</td>\n",
       "      <td>Yes</td>\n",
       "      <td>No</td>\n",
       "      <td>No</td>\n",
       "      <td>No</td>\n",
       "      <td>One year</td>\n",
       "      <td>No</td>\n",
       "      <td>Mailed check</td>\n",
       "      <td>56.95</td>\n",
       "      <td>1889.5</td>\n",
       "      <td>No</td>\n",
       "    </tr>\n",
       "    <tr>\n",
       "      <th>3</th>\n",
       "      <td>7795-CFOCW</td>\n",
       "      <td>Male</td>\n",
       "      <td>0</td>\n",
       "      <td>No</td>\n",
       "      <td>No</td>\n",
       "      <td>45</td>\n",
       "      <td>No</td>\n",
       "      <td>No phone service</td>\n",
       "      <td>DSL</td>\n",
       "      <td>Yes</td>\n",
       "      <td>...</td>\n",
       "      <td>Yes</td>\n",
       "      <td>Yes</td>\n",
       "      <td>No</td>\n",
       "      <td>No</td>\n",
       "      <td>One year</td>\n",
       "      <td>No</td>\n",
       "      <td>Bank transfer (automatic)</td>\n",
       "      <td>42.30</td>\n",
       "      <td>1840.75</td>\n",
       "      <td>No</td>\n",
       "    </tr>\n",
       "    <tr>\n",
       "      <th>9</th>\n",
       "      <td>6388-TABGU</td>\n",
       "      <td>Male</td>\n",
       "      <td>0</td>\n",
       "      <td>No</td>\n",
       "      <td>Yes</td>\n",
       "      <td>62</td>\n",
       "      <td>Yes</td>\n",
       "      <td>No</td>\n",
       "      <td>DSL</td>\n",
       "      <td>Yes</td>\n",
       "      <td>...</td>\n",
       "      <td>No</td>\n",
       "      <td>No</td>\n",
       "      <td>No</td>\n",
       "      <td>No</td>\n",
       "      <td>One year</td>\n",
       "      <td>No</td>\n",
       "      <td>Bank transfer (automatic)</td>\n",
       "      <td>56.15</td>\n",
       "      <td>3487.95</td>\n",
       "      <td>No</td>\n",
       "    </tr>\n",
       "    <tr>\n",
       "      <th>12</th>\n",
       "      <td>8091-TTVAX</td>\n",
       "      <td>Male</td>\n",
       "      <td>0</td>\n",
       "      <td>Yes</td>\n",
       "      <td>No</td>\n",
       "      <td>58</td>\n",
       "      <td>Yes</td>\n",
       "      <td>Yes</td>\n",
       "      <td>Fiber optic</td>\n",
       "      <td>No</td>\n",
       "      <td>...</td>\n",
       "      <td>Yes</td>\n",
       "      <td>No</td>\n",
       "      <td>Yes</td>\n",
       "      <td>Yes</td>\n",
       "      <td>One year</td>\n",
       "      <td>No</td>\n",
       "      <td>Credit card (automatic)</td>\n",
       "      <td>100.35</td>\n",
       "      <td>5681.1</td>\n",
       "      <td>No</td>\n",
       "    </tr>\n",
       "    <tr>\n",
       "      <th>16</th>\n",
       "      <td>8191-XWSZG</td>\n",
       "      <td>Female</td>\n",
       "      <td>0</td>\n",
       "      <td>No</td>\n",
       "      <td>No</td>\n",
       "      <td>52</td>\n",
       "      <td>Yes</td>\n",
       "      <td>No</td>\n",
       "      <td>No</td>\n",
       "      <td>No internet service</td>\n",
       "      <td>...</td>\n",
       "      <td>No internet service</td>\n",
       "      <td>No internet service</td>\n",
       "      <td>No internet service</td>\n",
       "      <td>No internet service</td>\n",
       "      <td>One year</td>\n",
       "      <td>No</td>\n",
       "      <td>Mailed check</td>\n",
       "      <td>20.65</td>\n",
       "      <td>1022.95</td>\n",
       "      <td>No</td>\n",
       "    </tr>\n",
       "    <tr>\n",
       "      <th>...</th>\n",
       "      <td>...</td>\n",
       "      <td>...</td>\n",
       "      <td>...</td>\n",
       "      <td>...</td>\n",
       "      <td>...</td>\n",
       "      <td>...</td>\n",
       "      <td>...</td>\n",
       "      <td>...</td>\n",
       "      <td>...</td>\n",
       "      <td>...</td>\n",
       "      <td>...</td>\n",
       "      <td>...</td>\n",
       "      <td>...</td>\n",
       "      <td>...</td>\n",
       "      <td>...</td>\n",
       "      <td>...</td>\n",
       "      <td>...</td>\n",
       "      <td>...</td>\n",
       "      <td>...</td>\n",
       "      <td>...</td>\n",
       "      <td>...</td>\n",
       "    </tr>\n",
       "    <tr>\n",
       "      <th>7022</th>\n",
       "      <td>7203-OYKCT</td>\n",
       "      <td>Male</td>\n",
       "      <td>0</td>\n",
       "      <td>No</td>\n",
       "      <td>No</td>\n",
       "      <td>72</td>\n",
       "      <td>Yes</td>\n",
       "      <td>Yes</td>\n",
       "      <td>Fiber optic</td>\n",
       "      <td>No</td>\n",
       "      <td>...</td>\n",
       "      <td>Yes</td>\n",
       "      <td>No</td>\n",
       "      <td>Yes</td>\n",
       "      <td>Yes</td>\n",
       "      <td>One year</td>\n",
       "      <td>Yes</td>\n",
       "      <td>Electronic check</td>\n",
       "      <td>104.95</td>\n",
       "      <td>7544.3</td>\n",
       "      <td>No</td>\n",
       "    </tr>\n",
       "    <tr>\n",
       "      <th>7031</th>\n",
       "      <td>3605-JISKB</td>\n",
       "      <td>Male</td>\n",
       "      <td>1</td>\n",
       "      <td>Yes</td>\n",
       "      <td>No</td>\n",
       "      <td>55</td>\n",
       "      <td>Yes</td>\n",
       "      <td>Yes</td>\n",
       "      <td>DSL</td>\n",
       "      <td>Yes</td>\n",
       "      <td>...</td>\n",
       "      <td>No</td>\n",
       "      <td>No</td>\n",
       "      <td>No</td>\n",
       "      <td>No</td>\n",
       "      <td>One year</td>\n",
       "      <td>No</td>\n",
       "      <td>Credit card (automatic)</td>\n",
       "      <td>60.00</td>\n",
       "      <td>3316.1</td>\n",
       "      <td>No</td>\n",
       "    </tr>\n",
       "    <tr>\n",
       "      <th>7036</th>\n",
       "      <td>7750-EYXWZ</td>\n",
       "      <td>Female</td>\n",
       "      <td>0</td>\n",
       "      <td>No</td>\n",
       "      <td>No</td>\n",
       "      <td>12</td>\n",
       "      <td>No</td>\n",
       "      <td>No phone service</td>\n",
       "      <td>DSL</td>\n",
       "      <td>No</td>\n",
       "      <td>...</td>\n",
       "      <td>Yes</td>\n",
       "      <td>Yes</td>\n",
       "      <td>Yes</td>\n",
       "      <td>Yes</td>\n",
       "      <td>One year</td>\n",
       "      <td>No</td>\n",
       "      <td>Electronic check</td>\n",
       "      <td>60.65</td>\n",
       "      <td>743.3</td>\n",
       "      <td>No</td>\n",
       "    </tr>\n",
       "    <tr>\n",
       "      <th>7038</th>\n",
       "      <td>6840-RESVB</td>\n",
       "      <td>Male</td>\n",
       "      <td>0</td>\n",
       "      <td>Yes</td>\n",
       "      <td>Yes</td>\n",
       "      <td>24</td>\n",
       "      <td>Yes</td>\n",
       "      <td>Yes</td>\n",
       "      <td>DSL</td>\n",
       "      <td>Yes</td>\n",
       "      <td>...</td>\n",
       "      <td>Yes</td>\n",
       "      <td>Yes</td>\n",
       "      <td>Yes</td>\n",
       "      <td>Yes</td>\n",
       "      <td>One year</td>\n",
       "      <td>Yes</td>\n",
       "      <td>Mailed check</td>\n",
       "      <td>84.80</td>\n",
       "      <td>1990.5</td>\n",
       "      <td>No</td>\n",
       "    </tr>\n",
       "    <tr>\n",
       "      <th>7039</th>\n",
       "      <td>2234-XADUH</td>\n",
       "      <td>Female</td>\n",
       "      <td>0</td>\n",
       "      <td>Yes</td>\n",
       "      <td>Yes</td>\n",
       "      <td>72</td>\n",
       "      <td>Yes</td>\n",
       "      <td>Yes</td>\n",
       "      <td>Fiber optic</td>\n",
       "      <td>No</td>\n",
       "      <td>...</td>\n",
       "      <td>Yes</td>\n",
       "      <td>No</td>\n",
       "      <td>Yes</td>\n",
       "      <td>Yes</td>\n",
       "      <td>One year</td>\n",
       "      <td>Yes</td>\n",
       "      <td>Credit card (automatic)</td>\n",
       "      <td>103.20</td>\n",
       "      <td>7362.9</td>\n",
       "      <td>No</td>\n",
       "    </tr>\n",
       "  </tbody>\n",
       "</table>\n",
       "<p>1473 rows × 21 columns</p>\n",
       "</div>"
      ],
      "text/plain": [
       "      customerID  gender  SeniorCitizen Partner Dependents  tenure  \\\n",
       "1     5575-GNVDE    Male              0      No         No      34   \n",
       "3     7795-CFOCW    Male              0      No         No      45   \n",
       "9     6388-TABGU    Male              0      No        Yes      62   \n",
       "12    8091-TTVAX    Male              0     Yes         No      58   \n",
       "16    8191-XWSZG  Female              0      No         No      52   \n",
       "...          ...     ...            ...     ...        ...     ...   \n",
       "7022  7203-OYKCT    Male              0      No         No      72   \n",
       "7031  3605-JISKB    Male              1     Yes         No      55   \n",
       "7036  7750-EYXWZ  Female              0      No         No      12   \n",
       "7038  6840-RESVB    Male              0     Yes        Yes      24   \n",
       "7039  2234-XADUH  Female              0     Yes        Yes      72   \n",
       "\n",
       "     PhoneService     MultipleLines InternetService       OnlineSecurity  ...  \\\n",
       "1             Yes                No             DSL                  Yes  ...   \n",
       "3              No  No phone service             DSL                  Yes  ...   \n",
       "9             Yes                No             DSL                  Yes  ...   \n",
       "12            Yes               Yes     Fiber optic                   No  ...   \n",
       "16            Yes                No              No  No internet service  ...   \n",
       "...           ...               ...             ...                  ...  ...   \n",
       "7022          Yes               Yes     Fiber optic                   No  ...   \n",
       "7031          Yes               Yes             DSL                  Yes  ...   \n",
       "7036           No  No phone service             DSL                   No  ...   \n",
       "7038          Yes               Yes             DSL                  Yes  ...   \n",
       "7039          Yes               Yes     Fiber optic                   No  ...   \n",
       "\n",
       "         DeviceProtection          TechSupport          StreamingTV  \\\n",
       "1                     Yes                   No                   No   \n",
       "3                     Yes                  Yes                   No   \n",
       "9                      No                   No                   No   \n",
       "12                    Yes                   No                  Yes   \n",
       "16    No internet service  No internet service  No internet service   \n",
       "...                   ...                  ...                  ...   \n",
       "7022                  Yes                   No                  Yes   \n",
       "7031                   No                   No                   No   \n",
       "7036                  Yes                  Yes                  Yes   \n",
       "7038                  Yes                  Yes                  Yes   \n",
       "7039                  Yes                   No                  Yes   \n",
       "\n",
       "          StreamingMovies  Contract PaperlessBilling  \\\n",
       "1                      No  One year               No   \n",
       "3                      No  One year               No   \n",
       "9                      No  One year               No   \n",
       "12                    Yes  One year               No   \n",
       "16    No internet service  One year               No   \n",
       "...                   ...       ...              ...   \n",
       "7022                  Yes  One year              Yes   \n",
       "7031                   No  One year               No   \n",
       "7036                  Yes  One year               No   \n",
       "7038                  Yes  One year              Yes   \n",
       "7039                  Yes  One year              Yes   \n",
       "\n",
       "                  PaymentMethod MonthlyCharges  TotalCharges Churn  \n",
       "1                  Mailed check          56.95        1889.5    No  \n",
       "3     Bank transfer (automatic)          42.30       1840.75    No  \n",
       "9     Bank transfer (automatic)          56.15       3487.95    No  \n",
       "12      Credit card (automatic)         100.35        5681.1    No  \n",
       "16                 Mailed check          20.65       1022.95    No  \n",
       "...                         ...            ...           ...   ...  \n",
       "7022           Electronic check         104.95        7544.3    No  \n",
       "7031    Credit card (automatic)          60.00        3316.1    No  \n",
       "7036           Electronic check          60.65         743.3    No  \n",
       "7038               Mailed check          84.80        1990.5    No  \n",
       "7039    Credit card (automatic)         103.20        7362.9    No  \n",
       "\n",
       "[1473 rows x 21 columns]"
      ]
     },
     "execution_count": 31,
     "metadata": {},
     "output_type": "execute_result"
    }
   ],
   "source": [
    "df = pd.read_csv('WA_Fn-UseC_-Telco-Customer-Churn.csv')\n"
   ]
  },
  {
   "cell_type": "code",
   "execution_count": 67,
   "metadata": {},
   "outputs": [
    {
     "data": {
      "text/html": [
       "<div>\n",
       "<style scoped>\n",
       "    .dataframe tbody tr th:only-of-type {\n",
       "        vertical-align: middle;\n",
       "    }\n",
       "\n",
       "    .dataframe tbody tr th {\n",
       "        vertical-align: top;\n",
       "    }\n",
       "\n",
       "    .dataframe thead th {\n",
       "        text-align: right;\n",
       "    }\n",
       "</style>\n",
       "<table border=\"1\" class=\"dataframe\">\n",
       "  <thead>\n",
       "    <tr style=\"text-align: right;\">\n",
       "      <th></th>\n",
       "      <th>Contract</th>\n",
       "      <th>tenure</th>\n",
       "      <th>MonthlyCharges</th>\n",
       "      <th>TotalCharges</th>\n",
       "      <th>Churn</th>\n",
       "    </tr>\n",
       "  </thead>\n",
       "  <tbody>\n",
       "    <tr>\n",
       "      <th>3719</th>\n",
       "      <td>One year</td>\n",
       "      <td>28</td>\n",
       "      <td>18.25</td>\n",
       "      <td>534.7</td>\n",
       "      <td>No</td>\n",
       "    </tr>\n",
       "    <tr>\n",
       "      <th>1654</th>\n",
       "      <td>One year</td>\n",
       "      <td>1</td>\n",
       "      <td>18.80</td>\n",
       "      <td>18.8</td>\n",
       "      <td>No</td>\n",
       "    </tr>\n",
       "    <tr>\n",
       "      <th>1846</th>\n",
       "      <td>One year</td>\n",
       "      <td>19</td>\n",
       "      <td>18.80</td>\n",
       "      <td>279.2</td>\n",
       "      <td>No</td>\n",
       "    </tr>\n",
       "    <tr>\n",
       "      <th>6925</th>\n",
       "      <td>One year</td>\n",
       "      <td>15</td>\n",
       "      <td>18.80</td>\n",
       "      <td>294.95</td>\n",
       "      <td>No</td>\n",
       "    </tr>\n",
       "    <tr>\n",
       "      <th>4274</th>\n",
       "      <td>One year</td>\n",
       "      <td>45</td>\n",
       "      <td>18.85</td>\n",
       "      <td>867.3</td>\n",
       "      <td>No</td>\n",
       "    </tr>\n",
       "    <tr>\n",
       "      <th>...</th>\n",
       "      <td>...</td>\n",
       "      <td>...</td>\n",
       "      <td>...</td>\n",
       "      <td>...</td>\n",
       "      <td>...</td>\n",
       "    </tr>\n",
       "    <tr>\n",
       "      <th>4627</th>\n",
       "      <td>One year</td>\n",
       "      <td>60</td>\n",
       "      <td>116.60</td>\n",
       "      <td>7049.5</td>\n",
       "      <td>No</td>\n",
       "    </tr>\n",
       "    <tr>\n",
       "      <th>3299</th>\n",
       "      <td>One year</td>\n",
       "      <td>68</td>\n",
       "      <td>117.20</td>\n",
       "      <td>8035.95</td>\n",
       "      <td>No</td>\n",
       "    </tr>\n",
       "    <tr>\n",
       "      <th>4610</th>\n",
       "      <td>One year</td>\n",
       "      <td>72</td>\n",
       "      <td>117.80</td>\n",
       "      <td>8684.8</td>\n",
       "      <td>Yes</td>\n",
       "    </tr>\n",
       "    <tr>\n",
       "      <th>5127</th>\n",
       "      <td>One year</td>\n",
       "      <td>67</td>\n",
       "      <td>118.35</td>\n",
       "      <td>7804.15</td>\n",
       "      <td>Yes</td>\n",
       "    </tr>\n",
       "    <tr>\n",
       "      <th>4804</th>\n",
       "      <td>One year</td>\n",
       "      <td>61</td>\n",
       "      <td>118.60</td>\n",
       "      <td>7365.7</td>\n",
       "      <td>No</td>\n",
       "    </tr>\n",
       "  </tbody>\n",
       "</table>\n",
       "<p>1473 rows × 5 columns</p>\n",
       "</div>"
      ],
      "text/plain": [
       "      Contract  tenure  MonthlyCharges TotalCharges Churn\n",
       "3719  One year      28           18.25        534.7    No\n",
       "1654  One year       1           18.80         18.8    No\n",
       "1846  One year      19           18.80        279.2    No\n",
       "6925  One year      15           18.80       294.95    No\n",
       "4274  One year      45           18.85        867.3    No\n",
       "...        ...     ...             ...          ...   ...\n",
       "4627  One year      60          116.60       7049.5    No\n",
       "3299  One year      68          117.20      8035.95    No\n",
       "4610  One year      72          117.80       8684.8   Yes\n",
       "5127  One year      67          118.35      7804.15   Yes\n",
       "4804  One year      61          118.60       7365.7    No\n",
       "\n",
       "[1473 rows x 5 columns]"
      ]
     },
     "execution_count": 67,
     "metadata": {},
     "output_type": "execute_result"
    }
   ],
   "source": [
    "df[df['Contract']=='One year'].sort_values(by='MonthlyCharges', ascending=True)[['Contract','tenure','MonthlyCharges','TotalCharges','Churn']]"
   ]
  }
 ],
 "metadata": {
  "kernelspec": {
   "display_name": "base",
   "language": "python",
   "name": "python3"
  },
  "language_info": {
   "codemirror_mode": {
    "name": "ipython",
    "version": 3
   },
   "file_extension": ".py",
   "mimetype": "text/x-python",
   "name": "python",
   "nbconvert_exporter": "python",
   "pygments_lexer": "ipython3",
   "version": "3.9.7"
  },
  "orig_nbformat": 4
 },
 "nbformat": 4,
 "nbformat_minor": 2
}
